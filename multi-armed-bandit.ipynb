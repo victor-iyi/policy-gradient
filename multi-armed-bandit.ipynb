{
 "cells": [
  {
   "cell_type": "markdown",
   "metadata": {
    "deletable": true,
    "editable": true
   },
   "source": [
    "# The Multi Armed Bandit Problem\n",
    "\n",
    "### Dependencies"
   ]
  },
  {
   "cell_type": "code",
   "execution_count": 1,
   "metadata": {
    "collapsed": false,
    "deletable": true,
    "editable": true
   },
   "outputs": [],
   "source": [
    "import numpy as np\n",
    "import tensorflow as tf"
   ]
  },
  {
   "cell_type": "markdown",
   "metadata": {},
   "source": [
    "### n-armed bandit"
   ]
  },
  {
   "cell_type": "code",
   "execution_count": 2,
   "metadata": {
    "collapsed": true,
    "deletable": true,
    "editable": true
   },
   "outputs": [],
   "source": [
    "bandits = [0.2, 0, -0.2, -5]\n",
    "num_bandits = len(bandits)"
   ]
  },
  {
   "cell_type": "code",
   "execution_count": 3,
   "metadata": {
    "collapsed": true,
    "deletable": true,
    "editable": true
   },
   "outputs": [],
   "source": [
    "def pull_bandit(bandit):\n",
    "    \"\"\"\n",
    "    Pull a bandit.\n",
    "    \n",
    "    Generates a random number from a normal\n",
    "    distribution with mean of 0.\n",
    "    \n",
    "    :param bandit: float\n",
    "        The bandit to be pulled.\n",
    "    \n",
    "    :return reward: int\n",
    "        The reward for pulling a bandit.\n",
    "        The lower the bandit the more likely it\n",
    "        is for a positive reward.\n",
    "    \"\"\"\n",
    "    reward = 1 if np.random.randn(1) > bandit else -1\n",
    "    return reward"
   ]
  },
  {
   "cell_type": "markdown",
   "metadata": {},
   "source": [
    "## The Agent"
   ]
  },
  {
   "cell_type": "code",
   "execution_count": 7,
   "metadata": {
    "collapsed": false
   },
   "outputs": [
    {
     "name": "stdout",
     "output_type": "stream",
     "text": [
      "Weights: <tf.Variable 'Variable:0' shape=(4,) dtype=float32_ref>\n",
      "R weights: Tensor(\"Slice:0\", shape=(1,), dtype=float32)\n"
     ]
    }
   ],
   "source": [
    "tf.reset_default_graph()\n",
    "\n",
    "# Weights: contains the value that estimates how good a \n",
    "#          choosen (pulled) bandit is.\n",
    "# Action:  is the action that gives the maximum \n",
    "#          weight value\n",
    "weights = tf.Variable(tf.ones(shape=[num_bandits]))\n",
    "choosen_action = np.argmax(weights, axis=0)\n",
    "\n",
    "# Reward: reward from pulling a bandit/lever\n",
    "# Action: the action that lead to the reward\n",
    "reward_placeholder = tf.placeholder(tf.float32, shape=[1])\n",
    "action_placeholder = tf.placeholder(tf.int32, shape=[1])\n",
    "\n",
    "responsible_weight = tf.slice(weights, action_placeholder, [1])\n",
    "print('Weights:', weights)\n",
    "print('R weights:', responsible_weight)\n",
    "# loss = -log(π) * A\n",
    "loss = -tf.log(responsible_weight) * reward_placeholder\n",
    "\n",
    "optimizer = tf.train.GradientDescentOptimizer(learning_rate=1e-3)\n",
    "train = optimizer.minimize(loss)"
   ]
  },
  {
   "cell_type": "markdown",
   "metadata": {},
   "source": [
    "## Training the Agent"
   ]
  },
  {
   "cell_type": "code",
   "execution_count": null,
   "metadata": {
    "collapsed": true
   },
   "outputs": [],
   "source": []
  }
 ],
 "metadata": {
  "kernelspec": {
   "display_name": "Python 3",
   "language": "python",
   "name": "python3"
  },
  "language_info": {
   "codemirror_mode": {
    "name": "ipython",
    "version": 3
   },
   "file_extension": ".py",
   "mimetype": "text/x-python",
   "name": "python",
   "nbconvert_exporter": "python",
   "pygments_lexer": "ipython3",
   "version": "3.6.3"
  }
 },
 "nbformat": 4,
 "nbformat_minor": 2
}
